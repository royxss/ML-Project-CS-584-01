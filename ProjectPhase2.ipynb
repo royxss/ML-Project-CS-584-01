{
 "cells": [
  {
   "cell_type": "markdown",
   "metadata": {},
   "source": [
    "# <em>Airline Sentiment Analysis</em>: \n",
    "\n",
    "\n",
    "## <u>Project Member</u>:\n",
    "### Subhadeep Roy (A20358508)"
   ]
  },
  {
   "cell_type": "markdown",
   "metadata": {},
   "source": [
    "## <u>Project Description</u>:\n",
    "### A sentiment analysis classification about the problems of each major U.S. airline reported by various customers on Twitter.\n",
    "### Phase2 : Perform supervised learning on your data, perform model selection, report results, and print/discuss important features for domain"
   ]
  },
  {
   "cell_type": "code",
   "execution_count": 3,
   "metadata": {
    "collapsed": true
   },
   "outputs": [],
   "source": [
    "# Import File and Packages\n",
    "import sklearn\n",
    "import matplotlib.pyplot as plt\n",
    "import pandas as pd\n",
    "import numpy as np\n",
    "%matplotlib inline\n",
    "import re\n",
    "import warnings\n",
    "warnings.filterwarnings(\"ignore\")\n",
    "\n",
    "# Read csv file into data frame\n",
    "tweet=pd.read_csv(\"./data/Tweets.csv\")"
   ]
  },
  {
   "cell_type": "markdown",
   "metadata": {},
   "source": [
    "### Load and preprocess data using NLTK:\n",
    "##### Tokenize, Clean, Stem, Lemmatize, Remove stopwords"
   ]
  },
  {
   "cell_type": "code",
   "execution_count": 4,
   "metadata": {
    "collapsed": true
   },
   "outputs": [],
   "source": [
    "# Preprocess the data {'negative': 0 , 'positive': 1 , 'neutral': 2}\n",
    "\n",
    "df=tweet.iloc[:,(10,1)]\n",
    "df.columns = ['data', 'target']\n",
    "df['target']=df['target'].str.strip().str.lower()\n",
    "df['target']=df['target'].map({'negative': 0 , 'positive': 1 , 'neutral': 2})\n",
    "\n",
    "# Copy df to a temporary dataframe for pre-processing\n",
    "# Below assignment is causing problems\n",
    "dft=df"
   ]
  },
  {
   "cell_type": "code",
   "execution_count": 5,
   "metadata": {
    "collapsed": true
   },
   "outputs": [],
   "source": [
    "# Remove @tweets, numbers, hyperlinks that do not start with letters\n",
    "dft['data']=dft['data'].str.replace(\"(@[A-Za-z0-9]+)|([^0-9A-Za-z \\t])|(\\w+:\\/\\/\\S+)|([0-9])\",\" \")\n",
    "\n",
    "# tokenize into words\n",
    "import nltk\n",
    "dft['data']=dft['data'].apply(nltk.word_tokenize)"
   ]
  },
  {
   "cell_type": "code",
   "execution_count": 6,
   "metadata": {
    "collapsed": true
   },
   "outputs": [],
   "source": [
    "# stem the tokens\n",
    "from nltk.stem.snowball import SnowballStemmer\n",
    "stemmer = SnowballStemmer('english')\n",
    "dft['data']=dft['data'].apply(lambda x: [stemmer.stem(y) for y in x])"
   ]
  },
  {
   "cell_type": "code",
   "execution_count": 7,
   "metadata": {
    "collapsed": true
   },
   "outputs": [],
   "source": [
    "# Lemmatizing\n",
    "lemmatizer = nltk.WordNetLemmatizer()\n",
    "dft['data']=dft['data'].apply(lambda x: [lemmatizer.lemmatize(y) for y in x])"
   ]
  },
  {
   "cell_type": "code",
   "execution_count": 8,
   "metadata": {
    "collapsed": true
   },
   "outputs": [],
   "source": [
    "# Remove stopwords\n",
    "stopwords = nltk.corpus.stopwords.words('english')\n",
    "\n",
    "# stem the stopwords\n",
    "stemmed_stops = [stemmer.stem(t) for t in stopwords]\n",
    "\n",
    "# remove stopwords from stemmed/lemmatized tokens\n",
    "dft['data']=dft['data'].apply(lambda x: [stemmer.stem(y) for y in x if y not in stemmed_stops])\n",
    "\n",
    "# remove words whose length is <3\n",
    "dft['data']=dft['data'].apply(lambda x: [e for e in x if len(e) >= 3])"
   ]
  },
  {
   "cell_type": "code",
   "execution_count": 9,
   "metadata": {
    "collapsed": true
   },
   "outputs": [],
   "source": [
    "# Detokenize cleaned dataframe for vectorizing\n",
    "dft['data']=dft['data'].str.join(\" \")"
   ]
  },
  {
   "cell_type": "markdown",
   "metadata": {},
   "source": [
    "### Printing data shape:"
   ]
  },
  {
   "cell_type": "code",
   "execution_count": 10,
   "metadata": {
    "collapsed": false
   },
   "outputs": [
    {
     "name": "stdout",
     "output_type": "stream",
     "text": [
      "Shape of original file :  (14640, 15)\n",
      "All columns of the original file :  ['tweet_id', 'airline_sentiment', 'airline_sentiment_confidence', 'negativereason', 'negativereason_confidence', 'airline', 'airline_sentiment_gold', 'name', 'negativereason_gold', 'retweet_count', 'text', 'tweet_coord', 'tweet_created', 'tweet_location', 'user_timezone'] \n",
      "\n",
      "Columns dft dataframe :  ['data', 'target'] \n",
      "\n",
      "Shape data and target :  (14640,) (14640,) \n",
      "\n",
      "Mood Count target :\n",
      " negative    9178\n",
      "neutral     3099\n",
      "positive    2363\n",
      "Name: airline_sentiment, dtype: int64\n"
     ]
    }
   ],
   "source": [
    "#Print attributes of tweet, X and y\n",
    "print('Shape of original file : ', tweet.shape)\n",
    "print('All columns of the original file : ', tweet.columns.tolist() , '\\n')\n",
    "print('Columns dft dataframe : ',dft.columns.tolist(), '\\n') \n",
    "print('Shape data and target : ', dft['data'].shape, dft['target'].shape, '\\n')\n",
    "print('Mood Count target :\\n',tweet['airline_sentiment'].value_counts())"
   ]
  },
  {
   "cell_type": "markdown",
   "metadata": {},
   "source": [
    "### Printing accuracy using DummyClassifier w.r.t Train Test Split:\n",
    "#### Performance Measure: Accuracy_score and runtime  \n",
    "##### Testing the dataset using Dummy classifier and train test. Purpose is to find an optimum random state for train test which gives the best accuracy."
   ]
  },
  {
   "cell_type": "code",
   "execution_count": 11,
   "metadata": {
    "collapsed": false
   },
   "outputs": [
    {
     "name": "stdout",
     "output_type": "stream",
     "text": [
      "Random State :  1    Accuracy :  0.458195364238\n",
      "Random State :  2    Accuracy :  0.46792218543\n",
      "Random State :  3    Accuracy :  0.457367549669\n",
      "Random State :  4    Accuracy :  0.462127483444\n",
      "Random State :  5    Accuracy :  0.462127483444\n",
      "Random State :  6    Accuracy :  0.480132450331\n",
      "Random State :  7    Accuracy :  0.469163907285\n",
      "Random State :  8    Accuracy :  0.461920529801\n",
      "Random State :  9    Accuracy :  0.464610927152\n",
      "Random State :  10    Accuracy :  0.458195364238\n",
      "Random State :  11    Accuracy :  0.464817880795\n",
      "Random State :  12    Accuracy :  0.469370860927\n",
      "Random State :  13    Accuracy :  0.462127483444\n",
      "Random State :  14    Accuracy :  0.461506622517\n",
      "Random State :  15    Accuracy :  0.463783112583\n",
      "Random State :  16    Accuracy :  0.456125827815\n",
      "Random State :  17    Accuracy :  0.470612582781\n",
      "Random State :  18    Accuracy :  0.458609271523\n",
      "Random State :  19    Accuracy :  0.464817880795\n"
     ]
    }
   ],
   "source": [
    "from sklearn.cross_validation import train_test_split\n",
    "from sklearn.dummy import DummyClassifier\n",
    "from sklearn import metrics\n",
    "from sklearn.feature_extraction.text import CountVectorizer\n",
    "\n",
    "#Tfid shows less accuracy\n",
    "#from sklearn.feature_extraction.text import TfidfVectorizer\n",
    "\n",
    "X=dft['data']\n",
    "y=dft['target']\n",
    "\n",
    "arr_Accu=[]\n",
    "\n",
    "#Using train_test_split\n",
    "#Selecting the best random state and comapring the accuracy using Dummy Classifier\n",
    "for i in range(1,20):\n",
    "    \n",
    "    X_train, X_test, y_train, y_test = train_test_split(X, y, train_size=0.67, random_state=i)\n",
    "\n",
    "    vect = CountVectorizer(stop_words='english',analyzer=\"word\",min_df = 2, max_df = 0.8)\n",
    "    X_train_dtm = vect.fit_transform(X_train)\n",
    "    X_test_dtm = vect.transform(X_test)\n",
    "    feat_dtm = vect.get_feature_names()\n",
    "    #feat_dtm\n",
    "\n",
    "    clf = DummyClassifier()\n",
    "    clf.fit(X_train_dtm, y_train)\n",
    "    y_pred = clf.predict(X_test_dtm)\n",
    "\n",
    "    accuracy = metrics.accuracy_score(y_test, y_pred)\n",
    "    #print(accuracy)\n",
    "    arr_Accu.append(accuracy)\n",
    "\n",
    "for j in range(1,20):\n",
    "    print(\"Random State : \", j, \"   Accuracy : \", arr_Accu[j-1])\n",
    "    \n",
    "#Random state comes best for the value 11 which is 0.77"
   ]
  },
  {
   "cell_type": "markdown",
   "metadata": {},
   "source": [
    "### Printing accuracy using Dummy Classifier w.r.t K-fold:\n",
    "#### Performance Measure: Accuracy_score and runtime\n",
    "##### Testing the dataset using dummy classifier and K-fold. Purpose is to find an optimum K value for CV which gives the best accuracy."
   ]
  },
  {
   "cell_type": "code",
   "execution_count": 12,
   "metadata": {
    "collapsed": false
   },
   "outputs": [
    {
     "name": "stdout",
     "output_type": "stream",
     "text": [
      "K-Fold :  3    Accuracy :  0.467486701739\n",
      "K-Fold :  4    Accuracy :  0.462634704066\n",
      "K-Fold :  5    Accuracy :  0.459152274453\n",
      "K-Fold :  6    Accuracy :  0.465163982324\n",
      "K-Fold :  7    Accuracy :  0.454097696419\n",
      "K-Fold :  8    Accuracy :  0.467138337491\n",
      "K-Fold :  9    Accuracy :  0.465568292518\n",
      "K-Fold :  10    Accuracy :  0.470012295772\n",
      "K-Fold :  11    Accuracy :  0.468168059582\n",
      "K-Fold :  12    Accuracy :  0.458603906627\n",
      "K-Fold :  13    Accuracy :  0.465095635487\n",
      "K-Fold :  14    Accuracy :  0.456905930765\n"
     ]
    }
   ],
   "source": [
    "#Using K-fold validation\n",
    "#Selecting the best fold and comparing the accuracy using Naive Bayes\n",
    "from sklearn.cross_validation import cross_val_score\n",
    "arr_Accu=[]\n",
    "\n",
    "#Using train_test_split\n",
    "#Selecting the best random state and comparing the accuracy using dummy classifier\n",
    "for i in range(3,15):\n",
    "\n",
    "    vect = CountVectorizer(stop_words='english',analyzer=\"word\",min_df = 2, max_df = 0.8)\n",
    "    X_dtm = vect.fit_transform(X)\n",
    "\n",
    "    clf = DummyClassifier()\n",
    "    accuracy = cross_val_score(clf, X_dtm, y, cv=i, scoring='accuracy')\n",
    "    \n",
    "    arr_Accu.append(np.mean(accuracy))\n",
    "\n",
    "#print(arr_Accu)\n",
    "for j in range(3,15):\n",
    "    print(\"K-Fold : \", j, \"   Accuracy : \", arr_Accu[j-3])\n",
    "\n",
    "#K-fold comes best for the cv 13 which is 0.7474"
   ]
  },
  {
   "cell_type": "markdown",
   "metadata": {},
   "source": [
    "### Print top features with frequency:"
   ]
  },
  {
   "cell_type": "code",
   "execution_count": 13,
   "metadata": {
    "collapsed": false
   },
   "outputs": [
    {
     "data": {
      "image/png": "[encoded data removed]",
      "text/plain": [
       "<matplotlib.figure.Figure at 0x2125348bc18>"
      ]
     },
     "metadata": {},
     "output_type": "display_data"
    }
   ],
   "source": [
    "def print_top_words():    \n",
    "    # Print top words\n",
    "    vect = CountVectorizer(stop_words='english',analyzer=\"word\",min_df = 2, max_df = 0.8)\n",
    "    data_dtm = vect.fit_transform(dft['data'])\n",
    "    feat_dtm = vect.get_feature_names()\n",
    "\n",
    "    # Count words\n",
    "    freq_tbl=pd.DataFrame({'Word':feat_dtm,'Occurence':np.asarray(data_dtm.sum(axis=0)).ravel().tolist()})\n",
    "    freq_tbl['Word']=freq_tbl['Word'].str.strip()\n",
    "\n",
    "    # Print top words\n",
    "    topt = freq_tbl.sort(['Occurence'], ascending=[False]).head(10)\n",
    "    y = topt['Occurence']\n",
    "    plt.grid()\n",
    "    X = range(1, 11)\n",
    "    plt.bar(X,y,color='g')\n",
    "    plt.xlabel('Top words')\n",
    "    plt.ylabel('Occurence')\n",
    "    plt.title('Frequency of top 10 words')\n",
    "    plt.xticks(X,topt['Word'],rotation=90)\n",
    "    \n",
    "def print_top_neg_words():    \n",
    "    # Print top negative words\n",
    "    vect = CountVectorizer(stop_words='english',analyzer=\"word\",min_df = 2, max_df = 0.8)\n",
    "    filt = dft[dft['target'] == 0]\n",
    "    data_dtm = vect.fit_transform(filt['data'])\n",
    "    feat_dtm = vect.get_feature_names()\n",
    "\n",
    "    # Count words\n",
    "    freq_tbl=pd.DataFrame({'Word':feat_dtm,'Occurence':np.asarray(data_dtm.sum(axis=0)).ravel().tolist()})\n",
    "    freq_tbl['Word']=freq_tbl['Word'].str.strip()\n",
    "\n",
    "    # Print top negative words\n",
    "    topt = freq_tbl.sort(['Occurence'], ascending=[False]).head(10)\n",
    "    y = topt['Occurence']\n",
    "    plt.grid()\n",
    "    X = range(1, 11)\n",
    "    plt.bar(X,y,color='g')\n",
    "    plt.xlabel('Top negative words')\n",
    "    plt.ylabel('Occurence')\n",
    "    plt.title('Frequency of top 10 negative words')\n",
    "    plt.xticks(X,topt['Word'],rotation=90)\n",
    "    \n",
    "def print_top_pos_words():    \n",
    "    # Print top positive words\n",
    "    vect = CountVectorizer(stop_words='english',analyzer=\"word\",min_df = 2, max_df = 0.8)\n",
    "    filt = dft[dft['target'] == 1]\n",
    "    data_dtm = vect.fit_transform(filt['data'])\n",
    "    feat_dtm = vect.get_feature_names()\n",
    "\n",
    "    # Count words\n",
    "    freq_tbl=pd.DataFrame({'Word':feat_dtm,'Occurence':np.asarray(data_dtm.sum(axis=0)).ravel().tolist()})\n",
    "    freq_tbl['Word']=freq_tbl['Word'].str.strip()\n",
    "\n",
    "    # Print top positive words\n",
    "    topt = freq_tbl.sort(['Occurence'], ascending=[False]).head(10)\n",
    "    y = topt['Occurence']\n",
    "    plt.grid()\n",
    "    X = range(1, 11)\n",
    "    plt.bar(X,y,color='g')\n",
    "    plt.xlabel('Top positive words')\n",
    "    plt.ylabel('Occurence')\n",
    "    plt.title('Frequency of top 10 positive words')\n",
    "    plt.xticks(X,topt['Word'],rotation=90)\n",
    "\n",
    "\n",
    "plt.figure(1,figsize=(16, 16))\n",
    "plt.subplot(251)\n",
    "print_top_words()  \n",
    "plt.subplot(253)\n",
    "print_top_pos_words()\n",
    "plt.subplot(255)\n",
    "print_top_neg_words()"
   ]
  },
  {
   "cell_type": "markdown",
   "metadata": {},
   "source": [
    "### Comparing different model accuracy using Train Test:\n",
    "#### 1. Multinomial Naive Bayes\n",
    "#### 2. Logistic Regression\n",
    "#### 3. KNN\n",
    "#### 4. Decision Tree\n",
    "#### 5. Random Forest\n",
    "#### 6. ADA Boost\n",
    "#### 7. SVC\n",
    "#### 8. Gaussian Naive Bayes\n",
    "### Performance Measure: Accuracy_score and runtime\n",
    "##### Each model mentioned above will be tested for accuracy and runtime using Train Test and the best performing model will be automatically selected."
   ]
  },
  {
   "cell_type": "code",
   "execution_count": 14,
   "metadata": {
    "collapsed": false
   },
   "outputs": [],
   "source": [
    "#Train test performs better than k-fold.\n",
    "import time\n",
    "#Train Test split data with random state=11\n",
    "X_train, X_test, y_train, y_test = train_test_split(X, y, train_size=0.67, random_state=11)\n",
    "\n",
    "#Vectorize\n",
    "vect = CountVectorizer(stop_words='english',analyzer=\"word\",min_df = 2, max_df = 0.8)\n",
    "X_train_dtm = vect.fit_transform(X_train)\n",
    "X_test_dtm = vect.transform(X_test)\n",
    "feat_dtm = vect.get_feature_names()\n",
    "\n",
    "#Initialize classifier stats\n",
    "clf_stats=pd.DataFrame()"
   ]
  },
  {
   "cell_type": "code",
   "execution_count": 15,
   "metadata": {
    "collapsed": false
   },
   "outputs": [
    {
     "name": "stdout",
     "output_type": "stream",
     "text": [
      "Accuracy :  0.762210264901\n"
     ]
    }
   ],
   "source": [
    "#Multinomial Naive Bayes\n",
    "from sklearn.naive_bayes import MultinomialNB\n",
    "clf = MultinomialNB()\n",
    "\n",
    "start_time=time.time()\n",
    "clf.fit(X_train_dtm, y_train)\n",
    "runtime = time.time()-start_time\n",
    "y_pred = clf.predict(X_test_dtm)\n",
    "accuracy = metrics.accuracy_score(y_test, y_pred)\n",
    "\n",
    "print('Accuracy : ',accuracy)\n",
    "\n",
    "#Store stats for classifier\n",
    "clf_stats=clf_stats.append({'Classifier': 'Multinomial Naive Bayes', 'Accuracy': accuracy, 'Runtime': runtime, 'Callable': 'clf = MultinomialNB()'}, ignore_index=True)"
   ]
  },
  {
   "cell_type": "code",
   "execution_count": 16,
   "metadata": {
    "collapsed": false
   },
   "outputs": [
    {
     "name": "stdout",
     "output_type": "stream",
     "text": [
      "Accuracy :  0.770281456954\n"
     ]
    }
   ],
   "source": [
    "#Logistic Regression\n",
    "from sklearn.linear_model import LogisticRegression\n",
    "clf = LogisticRegression()\n",
    "\n",
    "start_time=time.time()\n",
    "clf.fit(X_train_dtm, y_train)\n",
    "runtime = time.time()-start_time\n",
    "y_pred = clf.predict(X_test_dtm)\n",
    "accuracy = metrics.accuracy_score(y_test, y_pred)\n",
    "print('Accuracy : ',accuracy)\n",
    "\n",
    "#Store stats for classifier\n",
    "clf_stats=clf_stats.append({'Classifier': 'Logistic Regression', 'Accuracy': accuracy, 'Runtime': runtime, 'Callable': 'clf = LogisticRegression()'}, ignore_index=True)"
   ]
  },
  {
   "cell_type": "code",
   "execution_count": 17,
   "metadata": {
    "collapsed": false
   },
   "outputs": [
    {
     "name": "stdout",
     "output_type": "stream",
     "text": [
      "Accuracy :  0.604718543046\n"
     ]
    }
   ],
   "source": [
    "#K Nearest Neighbour\n",
    "from sklearn.neighbors import KNeighborsClassifier\n",
    "clf = KNeighborsClassifier(n_neighbors=2)\n",
    "\n",
    "start_time=time.time()\n",
    "clf.fit(X_train_dtm, y_train)\n",
    "runtime = time.time()-start_time\n",
    "y_pred = clf.predict(X_test_dtm)\n",
    "accuracy = metrics.accuracy_score(y_test, y_pred)\n",
    "\n",
    "print('Accuracy : ',accuracy)\n",
    "\n",
    "#Store stats for classifier\n",
    "clf_stats=clf_stats.append({'Classifier': 'KNN', 'Accuracy': accuracy, 'Runtime': runtime, 'Callable': 'clf = KNeighborsClassifier(n_neighbors=2)'}, ignore_index=True)"
   ]
  },
  {
   "cell_type": "code",
   "execution_count": 18,
   "metadata": {
    "collapsed": false
   },
   "outputs": [
    {
     "name": "stdout",
     "output_type": "stream",
     "text": [
      "Accuracy :  0.69184602649\n"
     ]
    }
   ],
   "source": [
    "#Decision Tree\n",
    "from sklearn.tree import DecisionTreeClassifier\n",
    "clf = DecisionTreeClassifier(criterion='entropy')\n",
    "\n",
    "start_time=time.time()\n",
    "clf.fit(X_train_dtm, y_train)\n",
    "runtime = time.time()-start_time\n",
    "y_pred = clf.predict(X_test_dtm)\n",
    "accuracy = metrics.accuracy_score(y_test, y_pred)\n",
    "\n",
    "print('Accuracy : ',accuracy)\n",
    "\n",
    "#Store stats for classifier\n",
    "clf_stats=clf_stats.append({'Classifier': 'Decision Trees', 'Accuracy': accuracy, 'Runtime': runtime, 'Callable': 'clf = DecisionTreeClassifier(criterion=''entropy'')'}, ignore_index=True)"
   ]
  },
  {
   "cell_type": "code",
   "execution_count": 19,
   "metadata": {
    "collapsed": false
   },
   "outputs": [
    {
     "name": "stdout",
     "output_type": "stream",
     "text": [
      "Accuracy :  0.730753311258\n"
     ]
    }
   ],
   "source": [
    "#RandomForestClassifier\n",
    "from sklearn.ensemble import RandomForestClassifier\n",
    "clf = RandomForestClassifier(criterion='entropy')\n",
    "\n",
    "start_time=time.time()\n",
    "clf.fit(X_train_dtm, y_train)\n",
    "runtime = time.time()-start_time\n",
    "y_pred = clf.predict(X_test_dtm)\n",
    "accuracy = metrics.accuracy_score(y_test, y_pred)\n",
    "\n",
    "print('Accuracy : ',accuracy)\n",
    "\n",
    "#Store stats for classifier\n",
    "clf_stats=clf_stats.append({'Classifier': 'Random Forest', 'Accuracy': accuracy, 'Runtime': runtime, 'Callable': 'clf = RandomForestClassifier(criterion=''entropy'')'}, ignore_index=True)"
   ]
  },
  {
   "cell_type": "code",
   "execution_count": 20,
   "metadata": {
    "collapsed": false
   },
   "outputs": [
    {
     "name": "stdout",
     "output_type": "stream",
     "text": [
      "Accuracy :  0.693087748344\n"
     ]
    }
   ],
   "source": [
    "#AdaBoostClassifier\n",
    "from sklearn.ensemble import AdaBoostClassifier\n",
    "clf = AdaBoostClassifier()\n",
    "\n",
    "start_time=time.time()\n",
    "clf.fit(X_train_dtm, y_train)\n",
    "runtime = time.time()-start_time\n",
    "y_pred = clf.predict(X_test_dtm)\n",
    "accuracy = metrics.accuracy_score(y_test, y_pred)\n",
    "\n",
    "print('Accuracy : ',accuracy)\n",
    "\n",
    "#Store stats for classifier\n",
    "clf_stats=clf_stats.append({'Classifier': 'ADA Boost', 'Accuracy': accuracy, 'Runtime': runtime, 'Callable': 'clf = AdaBoostClassifier()'}, ignore_index=True)"
   ]
  },
  {
   "cell_type": "code",
   "execution_count": 21,
   "metadata": {
    "collapsed": false
   },
   "outputs": [
    {
     "name": "stdout",
     "output_type": "stream",
     "text": [
      "Accuracy :  0.626448675497\n"
     ]
    }
   ],
   "source": [
    "#SVM SVC\n",
    "from sklearn.svm import SVC\n",
    "clf = SVC()\n",
    "\n",
    "start_time=time.time()\n",
    "clf.fit(X_train_dtm, y_train)\n",
    "runtime = time.time()-start_time\n",
    "y_pred = clf.predict(X_test_dtm)\n",
    "accuracy = metrics.accuracy_score(y_test, y_pred)\n",
    "\n",
    "print('Accuracy : ',accuracy)\n",
    "\n",
    "#Store stats for classifier\n",
    "clf_stats=clf_stats.append({'Classifier': 'SVM SVC', 'Accuracy': accuracy, 'Runtime': runtime, 'Callable': 'clf = SVC()'}, ignore_index=True)"
   ]
  },
  {
   "cell_type": "code",
   "execution_count": 22,
   "metadata": {
    "collapsed": false
   },
   "outputs": [
    {
     "name": "stdout",
     "output_type": "stream",
     "text": [
      "Accuracy :  0.378518211921\n"
     ]
    }
   ],
   "source": [
    "#GaussianNB\n",
    "from sklearn.naive_bayes import GaussianNB\n",
    "clf = GaussianNB()\n",
    "\n",
    "start_time=time.time()\n",
    "clf.fit(X_train_dtm.toarray(), y_train)\n",
    "runtime = time.time()-start_time\n",
    "y_pred = clf.predict(X_test_dtm.toarray())\n",
    "accuracy = metrics.accuracy_score(y_test, y_pred)\n",
    "\n",
    "print('Accuracy : ',accuracy)\n",
    "\n",
    "#Store stats for classifier\n",
    "clf_stats=clf_stats.append({'Classifier': 'Gaussian NB', 'Accuracy': accuracy, 'Runtime': runtime, 'Callable': 'clf = GaussianNB()'}, ignore_index=True)"
   ]
  },
  {
   "cell_type": "markdown",
   "metadata": {},
   "source": [
    "### Plotting Classifier vs Accuracy and Runtime:"
   ]
  },
  {
   "cell_type": "code",
   "execution_count": 23,
   "metadata": {
    "collapsed": false
   },
   "outputs": [
    {
     "name": "stdout",
     "output_type": "stream",
     "text": [
      "                Classifier  Accuracy    Runtime\n",
      "1      Logistic Regression  0.770281   0.440538\n",
      "0  Multinomial Naive Bayes  0.762210   0.012009\n",
      "4            Random Forest  0.730753   3.995784\n",
      "5                ADA Boost  0.693088   1.064567\n",
      "3           Decision Trees  0.691846   3.353624\n",
      "6                  SVM SVC  0.626449  18.531624\n",
      "2                      KNN  0.604719   0.003007\n",
      "7              Gaussian NB  0.378518   1.813035\n"
     ]
    },
    {
     "data": {
      "text/plain": [
       "([<matplotlib.axis.XTick at 0x2125368b358>,\n",
       "  <matplotlib.axis.XTick at 0x212535f2c50>,\n",
       "  <matplotlib.axis.XTick at 0x2125356e2b0>,\n",
       "  <matplotlib.axis.XTick at 0x212535f29e8>,\n",
       "  <matplotlib.axis.XTick at 0x212535fd908>,\n",
       "  <matplotlib.axis.XTick at 0x21253594940>,\n",
       "  <matplotlib.axis.XTick at 0x21253576dd8>,\n",
       "  <matplotlib.axis.XTick at 0x21253696588>],\n",
       " <a list of 8 Text xticklabel objects>)"
      ]
     },
     "execution_count": 23,
     "metadata": {},
     "output_type": "execute_result"
    },
    {
     "data": {
      "image/png": "[encoded data removed]",
      "text/plain": [
       "<matplotlib.figure.Figure at 0x2125375f6d8>"
      ]
     },
     "metadata": {},
     "output_type": "display_data"
    }
   ],
   "source": [
    "import matplotlib.pyplot as plt\n",
    "%matplotlib inline\n",
    "\n",
    "print (clf_stats[['Classifier','Accuracy','Runtime']].sort(['Accuracy'], ascending=[False]))\n",
    "#Plot performance measures of classifiers\n",
    "\n",
    "x=range(1,(len(clf_stats.Classifier)+1))\n",
    "plt.figure(1,figsize=(14, 5))\n",
    "\n",
    "plt.subplot(131)\n",
    "plt.xlabel('Classifier')\n",
    "plt.ylabel('Classifier Accuracy')\n",
    "plt.plot(x, clf_stats['Accuracy'],color='g')\n",
    "plt.xticks(x,clf_stats.Classifier,rotation=90)\n",
    "\n",
    "plt.subplot(133)\n",
    "plt.xlabel('Classifier')\n",
    "plt.ylabel('Classifier Runtime')\n",
    "plt.plot(x, clf_stats['Runtime'],color='g')\n",
    "plt.xticks(x,clf_stats.Classifier,rotation=90)    "
   ]
  },
  {
   "cell_type": "markdown",
   "metadata": {},
   "source": [
    "### Classifying new tweets: Fit model, Clean Tweet, Predict Mood\n",
    "#### Clean incoming new tweet:"
   ]
  },
  {
   "cell_type": "code",
   "execution_count": 24,
   "metadata": {
    "collapsed": false
   },
   "outputs": [],
   "source": [
    "# Clean input tweet\n",
    "\n",
    "def fmt_input_tweet(txt):\n",
    "    \n",
    "    # Remove @tweets, numbers, hyperlinks that do not start with letters\n",
    "    txt = re.sub(\"(@[A-Za-z0-9]+)|([^0-9A-Za-z \\t])|(\\w+:\\/\\/\\S+)|([0-9])\",\" \",txt)\n",
    "    #print(txt)\n",
    "    \n",
    "    # tokenize into words\n",
    "    tokens = [word for word in nltk.word_tokenize(txt)]\n",
    "    #print(tokens)\n",
    "\n",
    "    # only keep tokens that start with a letter (using regular expressions)\n",
    "    clean_tokens = [token for token in tokens if re.search(r'^[a-zA-Z]+', token)]\n",
    "    #print('clean_tokens:\\n',clean_tokens)\n",
    "\n",
    "    # stem the tokens\n",
    "    stemmer = SnowballStemmer('english')\n",
    "    stemmed_tokens = [stemmer.stem(t) for t in clean_tokens]\n",
    "    #print('stemmed_tokens:\\n',stemmed_tokens)\n",
    "\n",
    "    #Lemmatizing\n",
    "    lemmatizer = nltk.WordNetLemmatizer()\n",
    "    lem_tokens = [lemmatizer.lemmatize(t) for t in stemmed_tokens]\n",
    "    #print('lemmatizer : \\n',lem_tokens)\n",
    "    \n",
    "    #Remove stopwords\n",
    "    stopwords = nltk.corpus.stopwords.words('english')\n",
    "\n",
    "    # stem the stopwords\n",
    "    stemmed_stops = [stemmer.stem(t) for t in stopwords]\n",
    "\n",
    "    # remove stopwords from stemmed/lemmatized tokens\n",
    "    lem_tokens_no_stop = [stemmer.stem(t) for t in lem_tokens if t not in stemmed_stops]\n",
    "\n",
    "    # remove words whose length is <3\n",
    "    clean_lem_tok = [e for e in lem_tokens_no_stop if len(e) >= 3]\n",
    "    #print('clean_lem_tok: ',clean_lem_tok)\n",
    "    \n",
    "    # Detokenize new tweet for vector processing\n",
    "    new_formatted_tweet=\" \".join(clean_lem_tok)\n",
    "    #print('new_formatted_tweet: ',new_formatted_tweet)\n",
    "    \n",
    "    return new_formatted_tweet\n",
    "    "
   ]
  },
  {
   "cell_type": "markdown",
   "metadata": {},
   "source": [
    "### Classify incoming new tweet:"
   ]
  },
  {
   "cell_type": "code",
   "execution_count": 25,
   "metadata": {
    "collapsed": false
   },
   "outputs": [
    {
     "name": "stdout",
     "output_type": "stream",
     "text": [
      "Model :  LogisticRegression\n"
     ]
    }
   ],
   "source": [
    "# Logistic Regression performs better. So it will automatically used as an appropriate classifier\n",
    "\n",
    "# Vectorize, fit, transform. Select model randomly\n",
    "vect = CountVectorizer(stop_words='english', analyzer=\"word\", min_df = 2, max_df = 0.8)\n",
    "X_dtm = vect.fit_transform(X)\n",
    "feat_dtm = vect.get_feature_names()\n",
    "\n",
    "# Select the best performing classifier\n",
    "Call_clf = str(clf_stats[['Callable','Accuracy']].sort(['Accuracy'], ascending=[False]).head(1).iloc[:,(0)])\n",
    "temp = Call_clf.__repr__()\n",
    "Call_clf = temp[temp.index('c'):(temp.index(')'))+1]\n",
    "print('Model :',temp[(temp.index('=') + 1) : temp.index('(')])\n",
    "exec(Call_clf)\n",
    "clf.fit(X_dtm.toarray(), y) \n",
    "\n",
    "def classify_new_tweet(new_twt):  \n",
    "\n",
    "    fmt_twt = fmt_input_tweet(new_twt)\n",
    "    fmt_twt_dtm = vect.transform([fmt_twt])[0]\n",
    "    #print('Formatted Tweet :',fmt_twt)\n",
    "    pred = clf.predict(fmt_twt_dtm.toarray())\n",
    "\n",
    "    def mood(x):\n",
    "        return {\n",
    "            0: 'negative',\n",
    "            1: 'positive',\n",
    "            2: 'neutral'\n",
    "        }[x]\n",
    "\n",
    "    print('Mood of the incoming tweet is:',mood(pred[0]))"
   ]
  },
  {
   "cell_type": "code",
   "execution_count": 26,
   "metadata": {
    "collapsed": false
   },
   "outputs": [
    {
     "name": "stdout",
     "output_type": "stream",
     "text": [
      "Mood of the incoming tweet is: negative\n"
     ]
    }
   ],
   "source": [
    "twt='@united I am sick!! https://www.abc.com'\n",
    "classify_new_tweet(twt)"
   ]
  },
  {
   "cell_type": "code",
   "execution_count": 34,
   "metadata": {
    "collapsed": false
   },
   "outputs": [
    {
     "name": "stdout",
     "output_type": "stream",
     "text": [
      "Accuracy of random prediction :  0.161407103825\n"
     ]
    }
   ],
   "source": [
    "# Predict performance of random prediction. Testing for positive classes.\n",
    "y_random_pred = np.ones(y.shape[0])\n",
    "accuracy = metrics.accuracy_score(y, y_random_pred)\n",
    "print('Accuracy of random (positive) prediction : ',accuracy)"
   ]
  },
  {
   "cell_type": "code",
   "execution_count": 36,
   "metadata": {
    "collapsed": false
   },
   "outputs": [
    {
     "name": "stdout",
     "output_type": "stream",
     "text": [
      "Accuracy of majority class (negative) prediction :  0.626912568306\n"
     ]
    }
   ],
   "source": [
    "# Predict performance of majority class prediction. Testing for negative classes.\n",
    "y_random_pred = np.zeros(y.shape[0])\n",
    "accuracy = metrics.accuracy_score(y, y_random_pred)\n",
    "print('Accuracy of majority class (negative) prediction : ',accuracy)"
   ]
  },
  {
   "cell_type": "markdown",
   "metadata": {},
   "source": [
    "### Plot Classification Boundary for Logistic Regression:"
   ]
  },
  {
   "cell_type": "code",
   "execution_count": null,
   "metadata": {
    "collapsed": true
   },
   "outputs": [],
   "source": [
    "# Scatter plot classification boundary\n",
    "\n",
    "h = .02  # step size in the mesh\n",
    "\n",
    "logreg = LogisticRegression()\n",
    "\n",
    "# we create an instance of Neighbours Classifier and fit the data.\n",
    "logreg.fit(X_dtm, y)\n",
    "\n",
    "# Plot the decision boundary. For that, we will assign a color to each\n",
    "# point in the mesh [x_min, x_max]x[y_min, y_max].\n",
    "x_min, x_max = X_dtm[:, 0].min() - .5, X_dtm[:, 0].max() + .5\n",
    "y_min, y_max = X_dtm[:, 1].min() - .5, X_dtm[:, 1].max() + .5\n",
    "xx, yy = np.meshgrid(np.arange(x_min, x_max, h), np.arange(y_min, y_max, h))\n",
    "Z = logreg.predict(np.c_[xx.ravel(), yy.ravel()])\n",
    "\n",
    "# Put the result into a color plot\n",
    "Z = Z.reshape(xx.shape)\n",
    "plt.figure(1, figsize=(4, 3))\n",
    "plt.pcolormesh(xx, yy, Z, cmap=plt.cm.Paired)\n",
    "\n",
    "# Plot also the training points\n",
    "plt.scatter(X[:, 0], X[:, 1], c=Y, edgecolors='k', cmap=plt.cm.Paired)\n",
    "plt.xlabel('Sepal length')\n",
    "plt.ylabel('Sepal width')\n",
    "\n",
    "plt.xlim(xx.min(), xx.max())\n",
    "plt.ylim(yy.min(), yy.max())\n",
    "plt.xticks(())\n",
    "plt.yticks(())\n",
    "\n",
    "plt.show()"
   ]
  }
 ],
 "metadata": {
  "kernelspec": {
   "display_name": "Python 3",
   "language": "python",
   "name": "python3"
  },
  "language_info": {
   "codemirror_mode": {
    "name": "ipython",
    "version": 3
   },
   "file_extension": ".py",
   "mimetype": "text/x-python",
   "name": "python",
   "nbconvert_exporter": "python",
   "pygments_lexer": "ipython3",
   "version": "3.5.2"
  }
 },
 "nbformat": 4,
 "nbformat_minor": 1
}
