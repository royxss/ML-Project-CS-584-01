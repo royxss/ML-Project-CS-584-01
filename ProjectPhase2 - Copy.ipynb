{
 "cells": [
  {
   "cell_type": "markdown",
   "metadata": {},
   "source": [
    "# <em>Airline Sentiment Analysis</em>: \n",
    "\n",
    "\n",
    "## <u>Project Member</u>:\n",
    "### Subhadeep Roy (A20358508)"
   ]
  },
  {
   "cell_type": "markdown",
   "metadata": {},
   "source": [
    "## <u>Project Description</u>:\n",
    "### A sentiment analysis classification about the problems of each major U.S. airline reported by various customers on Twitter.\n",
    "### Phase2 : Perform supervised learning on your data, perform model selection, report results, and print/discuss important features for domain"
   ]
  },
  {
   "cell_type": "code",
   "execution_count": 69,
   "metadata": {
    "collapsed": true
   },
   "outputs": [],
   "source": [
    "# Import File and Packages\n",
    "import sklearn\n",
    "import matplotlib.pyplot as plt\n",
    "import pandas as pd\n",
    "import numpy as np\n",
    "%matplotlib inline\n",
    "import re\n",
    "import warnings\n",
    "warnings.filterwarnings(\"ignore\")\n",
    "\n",
    "# Read csv file into data frame\n",
    "tweet=pd.read_csv(\"./data/Tweets.csv\")"
   ]
  },
  {
   "cell_type": "markdown",
   "metadata": {},
   "source": [
    "### Load and preprocess data using NLTK:\n",
    "##### Tokenize, Clean, Stem, Lemmatize, Remove stopwords"
   ]
  },
  {
   "cell_type": "code",
   "execution_count": 70,
   "metadata": {
    "collapsed": true
   },
   "outputs": [],
   "source": [
    "# Preprocess the data {'negative': 0 , 'positive': 1 , 'neutral': 2}\n",
    "\n",
    "df=tweet.iloc[:,(10,1)]\n",
    "df.columns = ['data', 'target']\n",
    "df['target']=df['target'].str.strip().str.lower()\n",
    "df['target']=df['target'].map({'negative': 0 , 'positive': 1 , 'neutral': 2})\n",
    "\n",
    "# Copy df to a temporary dataframe for pre-processing\n",
    "# Below assignment is causing problems\n",
    "dft=df"
   ]
  },
  {
   "cell_type": "code",
   "execution_count": 71,
   "metadata": {
    "collapsed": true
   },
   "outputs": [],
   "source": [
    "# Remove @tweets, numbers, hyperlinks that do not start with letters\n",
    "dft['data']=dft['data'].str.replace(\"(@[A-Za-z0-9]+)|([^0-9A-Za-z \\t])|(\\w+:\\/\\/\\S+)|([0-9])\",\" \")\n",
    "\n",
    "# tokenize into words\n",
    "import nltk\n",
    "dft['data']=dft['data'].apply(nltk.word_tokenize)"
   ]
  },
  {
   "cell_type": "code",
   "execution_count": 72,
   "metadata": {
    "collapsed": true
   },
   "outputs": [],
   "source": [
    "# stem the tokens\n",
    "from nltk.stem.snowball import SnowballStemmer\n",
    "stemmer = SnowballStemmer('english')\n",
    "dft['data']=dft['data'].apply(lambda x: [stemmer.stem(y) for y in x])"
   ]
  },
  {
   "cell_type": "code",
   "execution_count": 73,
   "metadata": {
    "collapsed": true
   },
   "outputs": [],
   "source": [
    "# Lemmatizing\n",
    "lemmatizer = nltk.WordNetLemmatizer()\n",
    "dft['data']=dft['data'].apply(lambda x: [lemmatizer.lemmatize(y) for y in x])"
   ]
  },
  {
   "cell_type": "code",
   "execution_count": 74,
   "metadata": {
    "collapsed": true
   },
   "outputs": [],
   "source": [
    "# Remove stopwords\n",
    "stopwords = nltk.corpus.stopwords.words('english')\n",
    "\n",
    "# stem the stopwords\n",
    "stemmed_stops = [stemmer.stem(t) for t in stopwords]\n",
    "\n",
    "# remove stopwords from stemmed/lemmatized tokens\n",
    "dft['data']=dft['data'].apply(lambda x: [stemmer.stem(y) for y in x if y not in stemmed_stops])\n",
    "\n",
    "# remove words whose length is <3\n",
    "dft['data']=dft['data'].apply(lambda x: [e for e in x if len(e) >= 3])"
   ]
  },
  {
   "cell_type": "code",
   "execution_count": 75,
   "metadata": {
    "collapsed": true
   },
   "outputs": [],
   "source": [
    "# Detokenize cleaned dataframe for vectorizing\n",
    "dft['data']=dft['data'].str.join(\" \")"
   ]
  },
  {
   "cell_type": "markdown",
   "metadata": {},
   "source": [
    "### Printing data shape:"
   ]
  },
  {
   "cell_type": "code",
   "execution_count": 76,
   "metadata": {
    "collapsed": false
   },
   "outputs": [
    {
     "name": "stdout",
     "output_type": "stream",
     "text": [
      "Shape of original file :  (14640, 15)\n",
      "All columns of the original file :  ['tweet_id', 'airline_sentiment', 'airline_sentiment_confidence', 'negativereason', 'negativereason_confidence', 'airline', 'airline_sentiment_gold', 'name', 'negativereason_gold', 'retweet_count', 'text', 'tweet_coord', 'tweet_created', 'tweet_location', 'user_timezone'] \n",
      "\n",
      "Columns dft dataframe :  ['data', 'target'] \n",
      "\n",
      "Shape data and target :  (14640,) (14640,) \n",
      "\n",
      "Mood Count target :\n",
      " negative    9178\n",
      "neutral     3099\n",
      "positive    2363\n",
      "Name: airline_sentiment, dtype: int64\n"
     ]
    }
   ],
   "source": [
    "#Print attributes of tweet, X and y\n",
    "print('Shape of original file : ', tweet.shape)\n",
    "print('All columns of the original file : ', tweet.columns.tolist() , '\\n')\n",
    "print('Columns dft dataframe : ',dft.columns.tolist(), '\\n') \n",
    "print('Shape data and target : ', dft['data'].shape, dft['target'].shape, '\\n')\n",
    "print('Mood Count target :\\n',tweet['airline_sentiment'].value_counts())"
   ]
  },
  {
   "cell_type": "markdown",
   "metadata": {},
   "source": [
    "### Printing accuracy of Naive Bayes model using Train Test Split:\n",
    "#### Performance Measure: Accuracy_score and runtime  \n",
    "##### Testing the dataset using Naive Bayes classifier and train test. Purpose is to find an optimum random state for train test which gives the best accuracy."
   ]
  },
  {
   "cell_type": "code",
   "execution_count": 77,
   "metadata": {
    "collapsed": false
   },
   "outputs": [
    {
     "name": "stdout",
     "output_type": "stream",
     "text": [
      "Random State :  1    Accuracy :  0.755380794702\n",
      "Random State :  2    Accuracy :  0.753311258278\n",
      "Random State :  3    Accuracy :  0.757864238411\n",
      "Random State :  4    Accuracy :  0.752897350993\n",
      "Random State :  5    Accuracy :  0.75434602649\n",
      "Random State :  6    Accuracy :  0.759933774834\n",
      "Random State :  7    Accuracy :  0.751241721854\n",
      "Random State :  8    Accuracy :  0.756829470199\n",
      "Random State :  9    Accuracy :  0.760140728477\n",
      "Random State :  10    Accuracy :  0.756001655629\n",
      "Random State :  11    Accuracy :  0.762210264901\n",
      "Random State :  12    Accuracy :  0.758899006623\n",
      "Random State :  13    Accuracy :  0.757864238411\n",
      "Random State :  14    Accuracy :  0.753518211921\n",
      "Random State :  15    Accuracy :  0.753932119205\n",
      "Random State :  16    Accuracy :  0.756829470199\n",
      "Random State :  17    Accuracy :  0.765314569536\n",
      "Random State :  18    Accuracy :  0.757864238411\n",
      "Random State :  19    Accuracy :  0.752483443709\n"
     ]
    }
   ],
   "source": [
    "from sklearn.cross_validation import train_test_split\n",
    "from sklearn.naive_bayes import MultinomialNB\n",
    "from sklearn import metrics\n",
    "from sklearn.feature_extraction.text import CountVectorizer\n",
    "\n",
    "#Tfid shows less accuracy\n",
    "#from sklearn.feature_extraction.text import TfidfVectorizer\n",
    "\n",
    "X=dft['data']\n",
    "y=dft['target']\n",
    "\n",
    "arr_Accu=[]\n",
    "\n",
    "#Using train_test_split\n",
    "#Selecting the best random state and comapring the accuracy using Naive Bayes\n",
    "for i in range(1,20):\n",
    "    \n",
    "    X_train, X_test, y_train, y_test = train_test_split(X, y, train_size=0.67, random_state=i)\n",
    "\n",
    "    vect = CountVectorizer(stop_words='english',analyzer=\"word\",min_df = 2, max_df = 0.8)\n",
    "    X_train_dtm = vect.fit_transform(X_train)\n",
    "    X_test_dtm = vect.transform(X_test)\n",
    "    feat_dtm = vect.get_feature_names()\n",
    "    #feat_dtm\n",
    "\n",
    "    clf = MultinomialNB()\n",
    "    clf.fit(X_train_dtm, y_train)\n",
    "    y_pred = clf.predict(X_test_dtm)\n",
    "\n",
    "    accuracy = metrics.accuracy_score(y_test, y_pred)\n",
    "    #print(accuracy)\n",
    "    arr_Accu.append(accuracy)\n",
    "\n",
    "for j in range(1,20):\n",
    "    print(\"Random State : \", j, \"   Accuracy : \", arr_Accu[j-1])\n",
    "    \n",
    "#Random state comes best for the value 11 which is 0.77"
   ]
  },
  {
   "cell_type": "markdown",
   "metadata": {},
   "source": [
    "### Printing accuracy of Naive Bayes model using K-fold:\n",
    "#### Performance Measure: Accuracy_score and runtime\n",
    "##### Testing the dataset using Naive Bayes classifier and K-fold. Purpose is to find an optimum K value for CV which gives the best accuracy."
   ]
  },
  {
   "cell_type": "code",
   "execution_count": 78,
   "metadata": {
    "collapsed": false
   },
   "outputs": [
    {
     "name": "stdout",
     "output_type": "stream",
     "text": [
      "K-Fold :  3    Accuracy :  0.734427691707\n",
      "K-Fold :  4    Accuracy :  0.728893972272\n",
      "K-Fold :  5    Accuracy :  0.739416835276\n",
      "K-Fold :  6    Accuracy :  0.737570515005\n",
      "K-Fold :  7    Accuracy :  0.738118243238\n",
      "K-Fold :  8    Accuracy :  0.738458870197\n",
      "K-Fold :  9    Accuracy :  0.743378902215\n",
      "K-Fold :  10    Accuracy :  0.740096137419\n",
      "K-Fold :  11    Accuracy :  0.74522010512\n",
      "K-Fold :  12    Accuracy :  0.740167683344\n",
      "K-Fold :  13    Accuracy :  0.747405225591\n",
      "K-Fold :  14    Accuracy :  0.740784396657\n"
     ]
    }
   ],
   "source": [
    "#Using K-fold validation\n",
    "#Selecting the best fold and comparing the accuracy using Naive Bayes\n",
    "from sklearn.cross_validation import cross_val_score\n",
    "arr_Accu=[]\n",
    "\n",
    "#Using train_test_split\n",
    "#Selecting the best random state and comparing the accuracy using Naive Bayes\n",
    "for i in range(3,15):\n",
    "\n",
    "    vect = CountVectorizer(stop_words='english',analyzer=\"word\",min_df = 2, max_df = 0.8)\n",
    "    X_dtm = vect.fit_transform(X)\n",
    "\n",
    "    clf = MultinomialNB()\n",
    "    accuracy = cross_val_score(clf, X_dtm, y, cv=i, scoring='accuracy')\n",
    "    \n",
    "    arr_Accu.append(np.mean(accuracy))\n",
    "\n",
    "#print(arr_Accu)\n",
    "for j in range(3,15):\n",
    "    print(\"K-Fold : \", j, \"   Accuracy : \", arr_Accu[j-3])\n",
    "\n",
    "#K-fold comes best for the cv 13 which is 0.7474"
   ]
  },
  {
   "cell_type": "markdown",
   "metadata": {},
   "source": [
    "### Print top features with frequency:"
   ]
  },
  {
   "cell_type": "code",
   "execution_count": 79,
   "metadata": {
    "collapsed": false
   },
   "outputs": [
    {
     "data": {
      "image/png": "[encoded data removed]",
      "text/plain": [
       "<matplotlib.figure.Figure at 0x1dd086343c8>"
      ]
     },
     "metadata": {},
     "output_type": "display_data"
    }
   ],
   "source": [
    "def print_top_words():    \n",
    "    # Print top words\n",
    "    vect = CountVectorizer(stop_words='english',analyzer=\"word\",min_df = 2, max_df = 0.8)\n",
    "    data_dtm = vect.fit_transform(dft['data'])\n",
    "    feat_dtm = vect.get_feature_names()\n",
    "\n",
    "    # Count words\n",
    "    freq_tbl=pd.DataFrame({'Word':feat_dtm,'Occurence':np.asarray(data_dtm.sum(axis=0)).ravel().tolist()})\n",
    "    freq_tbl['Word']=freq_tbl['Word'].str.strip()\n",
    "\n",
    "    # Print top words\n",
    "    topt = freq_tbl.sort(['Occurence'], ascending=[False]).head(10)\n",
    "    y = topt['Occurence']\n",
    "    plt.grid()\n",
    "    X = range(1, 11)\n",
    "    plt.bar(X,y,color='g')\n",
    "    plt.xlabel('Top words')\n",
    "    plt.ylabel('Occurence')\n",
    "    plt.title('Frequency of top 10 words')\n",
    "    plt.xticks(X,topt['Word'],rotation=90)\n",
    "    \n",
    "def print_top_neg_words():    \n",
    "    # Print top negative words\n",
    "    vect = CountVectorizer(stop_words='english',analyzer=\"word\",min_df = 2, max_df = 0.8)\n",
    "    filt = dft[dft['target'] == 0]\n",
    "    data_dtm = vect.fit_transform(filt['data'])\n",
    "    feat_dtm = vect.get_feature_names()\n",
    "\n",
    "    # Count words\n",
    "    freq_tbl=pd.DataFrame({'Word':feat_dtm,'Occurence':np.asarray(data_dtm.sum(axis=0)).ravel().tolist()})\n",
    "    freq_tbl['Word']=freq_tbl['Word'].str.strip()\n",
    "\n",
    "    # Print top negative words\n",
    "    topt = freq_tbl.sort(['Occurence'], ascending=[False]).head(10)\n",
    "    y = topt['Occurence']\n",
    "    plt.grid()\n",
    "    X = range(1, 11)\n",
    "    plt.bar(X,y,color='g')\n",
    "    plt.xlabel('Top negative words')\n",
    "    plt.ylabel('Occurence')\n",
    "    plt.title('Frequency of top 10 negative words')\n",
    "    plt.xticks(X,topt['Word'],rotation=90)\n",
    "    \n",
    "def print_top_pos_words():    \n",
    "    # Print top positive words\n",
    "    vect = CountVectorizer(stop_words='english',analyzer=\"word\",min_df = 2, max_df = 0.8)\n",
    "    filt = dft[dft['target'] == 1]\n",
    "    data_dtm = vect.fit_transform(filt['data'])\n",
    "    feat_dtm = vect.get_feature_names()\n",
    "\n",
    "    # Count words\n",
    "    freq_tbl=pd.DataFrame({'Word':feat_dtm,'Occurence':np.asarray(data_dtm.sum(axis=0)).ravel().tolist()})\n",
    "    freq_tbl['Word']=freq_tbl['Word'].str.strip()\n",
    "\n",
    "    # Print top positive words\n",
    "    topt = freq_tbl.sort(['Occurence'], ascending=[False]).head(10)\n",
    "    y = topt['Occurence']\n",
    "    plt.grid()\n",
    "    X = range(1, 11)\n",
    "    plt.bar(X,y,color='g')\n",
    "    plt.xlabel('Top positive words')\n",
    "    plt.ylabel('Occurence')\n",
    "    plt.title('Frequency of top 10 positive words')\n",
    "    plt.xticks(X,topt['Word'],rotation=90)\n",
    "\n",
    "\n",
    "plt.figure(1,figsize=(16, 16))\n",
    "plt.subplot(251)\n",
    "print_top_words()  \n",
    "plt.subplot(253)\n",
    "print_top_pos_words()\n",
    "plt.subplot(255)\n",
    "print_top_neg_words()"
   ]
  },
  {
   "cell_type": "markdown",
   "metadata": {},
   "source": [
    "### Comparing different model accuracy using Train Test:\n",
    "#### 1. Multinomial Naive Bayes\n",
    "#### 2. Logistic Regression\n",
    "#### 3. KNN\n",
    "#### 4. Decision Tree\n",
    "#### 5. Random Forest\n",
    "#### 6. ADA Boost\n",
    "#### 7. SVC\n",
    "#### 8. Gaussian Naive Bayes\n",
    "### Performance Measure: Accuracy_score and runtime\n",
    "##### Each model mentioned above will be tested for accuracy and runtime using Train Test and the best performing model will be automatically selected."
   ]
  },
  {
   "cell_type": "code",
   "execution_count": 80,
   "metadata": {
    "collapsed": false
   },
   "outputs": [],
   "source": [
    "#Train test performs better than k-fold.\n",
    "import time\n",
    "#Train Test split data with random state=11\n",
    "X_train, X_test, y_train, y_test = train_test_split(X, y, train_size=0.67, random_state=11)\n",
    "\n",
    "#Vectorize\n",
    "vect = CountVectorizer(stop_words='english',analyzer=\"word\",min_df = 2, max_df = 0.8)\n",
    "X_train_dtm = vect.fit_transform(X_train)\n",
    "X_test_dtm = vect.transform(X_test)\n",
    "feat_dtm = vect.get_feature_names()\n",
    "\n",
    "#Initialize classifier stats\n",
    "clf_stats=pd.DataFrame()"
   ]
  },
  {
   "cell_type": "code",
   "execution_count": 81,
   "metadata": {
    "collapsed": false
   },
   "outputs": [
    {
     "name": "stdout",
     "output_type": "stream",
     "text": [
      "Accuracy :  0.762210264901\n"
     ]
    }
   ],
   "source": [
    "#Multinomial Naive Bayes\n",
    "from sklearn.naive_bayes import MultinomialNB\n",
    "clf = MultinomialNB()\n",
    "\n",
    "start_time=time.time()\n",
    "clf.fit(X_train_dtm, y_train)\n",
    "runtime = time.time()-start_time\n",
    "y_pred = clf.predict(X_test_dtm)\n",
    "accuracy = metrics.accuracy_score(y_test, y_pred)\n",
    "\n",
    "print('Accuracy : ',accuracy)\n",
    "\n",
    "#Store stats for classifier\n",
    "clf_stats=clf_stats.append({'Classifier': 'Multinomial Naive Bayes', 'Accuracy': accuracy, 'Runtime': runtime, 'Callable': 'clf = MultinomialNB()'}, ignore_index=True)"
   ]
  },
  {
   "cell_type": "code",
   "execution_count": 82,
   "metadata": {
    "collapsed": false
   },
   "outputs": [
    {
     "name": "stdout",
     "output_type": "stream",
     "text": [
      "Accuracy :  0.770281456954\n"
     ]
    }
   ],
   "source": [
    "#Logistic Regression\n",
    "from sklearn.linear_model import LogisticRegression\n",
    "clf = LogisticRegression()\n",
    "\n",
    "start_time=time.time()\n",
    "clf.fit(X_train_dtm, y_train)\n",
    "runtime = time.time()-start_time\n",
    "y_pred = clf.predict(X_test_dtm)\n",
    "accuracy = metrics.accuracy_score(y_test, y_pred)\n",
    "print('Accuracy : ',accuracy)\n",
    "\n",
    "#Store stats for classifier\n",
    "clf_stats=clf_stats.append({'Classifier': 'Logistic Regression', 'Accuracy': accuracy, 'Runtime': runtime, 'Callable': 'clf = LogisticRegression()'}, ignore_index=True)"
   ]
  },
  {
   "cell_type": "code",
   "execution_count": 83,
   "metadata": {
    "collapsed": false
   },
   "outputs": [
    {
     "name": "stdout",
     "output_type": "stream",
     "text": [
      "Accuracy :  0.604718543046\n"
     ]
    }
   ],
   "source": [
    "#K Nearest Neighbour\n",
    "from sklearn.neighbors import KNeighborsClassifier\n",
    "clf = KNeighborsClassifier(n_neighbors=2)\n",
    "\n",
    "start_time=time.time()\n",
    "clf.fit(X_train_dtm, y_train)\n",
    "runtime = time.time()-start_time\n",
    "y_pred = clf.predict(X_test_dtm)\n",
    "accuracy = metrics.accuracy_score(y_test, y_pred)\n",
    "\n",
    "print('Accuracy : ',accuracy)\n",
    "\n",
    "#Store stats for classifier\n",
    "clf_stats=clf_stats.append({'Classifier': 'KNN', 'Accuracy': accuracy, 'Runtime': runtime, 'Callable': 'clf = KNeighborsClassifier(n_neighbors=2)'}, ignore_index=True)"
   ]
  },
  {
   "cell_type": "code",
   "execution_count": 84,
   "metadata": {
    "collapsed": false
   },
   "outputs": [
    {
     "name": "stdout",
     "output_type": "stream",
     "text": [
      "Accuracy :  0.688120860927\n"
     ]
    }
   ],
   "source": [
    "#Decision Tree\n",
    "from sklearn.tree import DecisionTreeClassifier\n",
    "clf = DecisionTreeClassifier(criterion='entropy')\n",
    "\n",
    "start_time=time.time()\n",
    "clf.fit(X_train_dtm, y_train)\n",
    "runtime = time.time()-start_time\n",
    "y_pred = clf.predict(X_test_dtm)\n",
    "accuracy = metrics.accuracy_score(y_test, y_pred)\n",
    "\n",
    "print('Accuracy : ',accuracy)\n",
    "\n",
    "#Store stats for classifier\n",
    "clf_stats=clf_stats.append({'Classifier': 'Decision Trees', 'Accuracy': accuracy, 'Runtime': runtime, 'Callable': 'clf = DecisionTreeClassifier(criterion=''entropy'')'}, ignore_index=True)"
   ]
  },
  {
   "cell_type": "code",
   "execution_count": 85,
   "metadata": {
    "collapsed": false
   },
   "outputs": [
    {
     "name": "stdout",
     "output_type": "stream",
     "text": [
      "Accuracy :  0.729304635762\n"
     ]
    }
   ],
   "source": [
    "#RandomForestClassifier\n",
    "from sklearn.ensemble import RandomForestClassifier\n",
    "clf = RandomForestClassifier(criterion='entropy')\n",
    "\n",
    "start_time=time.time()\n",
    "clf.fit(X_train_dtm, y_train)\n",
    "runtime = time.time()-start_time\n",
    "y_pred = clf.predict(X_test_dtm)\n",
    "accuracy = metrics.accuracy_score(y_test, y_pred)\n",
    "\n",
    "print('Accuracy : ',accuracy)\n",
    "\n",
    "#Store stats for classifier\n",
    "clf_stats=clf_stats.append({'Classifier': 'Random Forest', 'Accuracy': accuracy, 'Runtime': runtime, 'Callable': 'clf = RandomForestClassifier(criterion=''entropy'')'}, ignore_index=True)"
   ]
  },
  {
   "cell_type": "code",
   "execution_count": 86,
   "metadata": {
    "collapsed": false
   },
   "outputs": [
    {
     "name": "stdout",
     "output_type": "stream",
     "text": [
      "Accuracy :  0.693087748344\n"
     ]
    }
   ],
   "source": [
    "#AdaBoostClassifier\n",
    "from sklearn.ensemble import AdaBoostClassifier\n",
    "clf = AdaBoostClassifier()\n",
    "\n",
    "start_time=time.time()\n",
    "clf.fit(X_train_dtm, y_train)\n",
    "runtime = time.time()-start_time\n",
    "y_pred = clf.predict(X_test_dtm)\n",
    "accuracy = metrics.accuracy_score(y_test, y_pred)\n",
    "\n",
    "print('Accuracy : ',accuracy)\n",
    "\n",
    "#Store stats for classifier\n",
    "clf_stats=clf_stats.append({'Classifier': 'ADA Boost', 'Accuracy': accuracy, 'Runtime': runtime, 'Callable': 'clf = AdaBoostClassifier()'}, ignore_index=True)"
   ]
  },
  {
   "cell_type": "code",
   "execution_count": 87,
   "metadata": {
    "collapsed": false
   },
   "outputs": [
    {
     "name": "stdout",
     "output_type": "stream",
     "text": [
      "Accuracy :  0.626448675497\n"
     ]
    }
   ],
   "source": [
    "#SVM SVC\n",
    "from sklearn.svm import SVC\n",
    "clf = SVC()\n",
    "\n",
    "start_time=time.time()\n",
    "clf.fit(X_train_dtm, y_train)\n",
    "runtime = time.time()-start_time\n",
    "y_pred = clf.predict(X_test_dtm)\n",
    "accuracy = metrics.accuracy_score(y_test, y_pred)\n",
    "\n",
    "print('Accuracy : ',accuracy)\n",
    "\n",
    "#Store stats for classifier\n",
    "clf_stats=clf_stats.append({'Classifier': 'SVM SVC', 'Accuracy': accuracy, 'Runtime': runtime, 'Callable': 'clf = SVC()'}, ignore_index=True)"
   ]
  },
  {
   "cell_type": "code",
   "execution_count": 88,
   "metadata": {
    "collapsed": false
   },
   "outputs": [
    {
     "name": "stdout",
     "output_type": "stream",
     "text": [
      "Accuracy :  0.378518211921\n"
     ]
    }
   ],
   "source": [
    "#GaussianNB\n",
    "from sklearn.naive_bayes import GaussianNB\n",
    "clf = GaussianNB()\n",
    "\n",
    "start_time=time.time()\n",
    "clf.fit(X_train_dtm.toarray(), y_train)\n",
    "runtime = time.time()-start_time\n",
    "y_pred = clf.predict(X_test_dtm.toarray())\n",
    "accuracy = metrics.accuracy_score(y_test, y_pred)\n",
    "\n",
    "print('Accuracy : ',accuracy)\n",
    "\n",
    "#Store stats for classifier\n",
    "clf_stats=clf_stats.append({'Classifier': 'Gaussian NB', 'Accuracy': accuracy, 'Runtime': runtime, 'Callable': 'clf = GaussianNB()'}, ignore_index=True)"
   ]
  },
  {
   "cell_type": "markdown",
   "metadata": {},
   "source": [
    "### Plotting Classifier vs Accuracy and Runtime:"
   ]
  },
  {
   "cell_type": "code",
   "execution_count": 89,
   "metadata": {
    "collapsed": false
   },
   "outputs": [
    {
     "name": "stdout",
     "output_type": "stream",
     "text": [
      "                Classifier  Accuracy    Runtime\n",
      "1      Logistic Regression  0.770281   0.486318\n",
      "0  Multinomial Naive Bayes  0.762210   0.015633\n",
      "4            Random Forest  0.729305   4.336211\n",
      "5                ADA Boost  0.693088   1.193703\n",
      "3           Decision Trees  0.688121   3.779736\n",
      "6                  SVM SVC  0.626449  21.084768\n",
      "2                      KNN  0.604719   0.000000\n",
      "7              Gaussian NB  0.378518   2.412319\n"
     ]
    },
    {
     "data": {
      "text/plain": [
       "([<matplotlib.axis.XTick at 0x1dd1176d160>,\n",
       "  <matplotlib.axis.XTick at 0x1dd0855db38>,\n",
       "  <matplotlib.axis.XTick at 0x1dd118f24e0>,\n",
       "  <matplotlib.axis.XTick at 0x1dd0bf4e470>,\n",
       "  <matplotlib.axis.XTick at 0x1dd118c7550>,\n",
       "  <matplotlib.axis.XTick at 0x1dd118d4e10>,\n",
       "  <matplotlib.axis.XTick at 0x1dd0c330cf8>,\n",
       "  <matplotlib.axis.XTick at 0x1dd0bd76cf8>],\n",
       " <a list of 8 Text xticklabel objects>)"
      ]
     },
     "execution_count": 89,
     "metadata": {},
     "output_type": "execute_result"
    },
    {
     "data": {
      "image/png": "[encoded data removed]",
      "text/plain": [
       "<matplotlib.figure.Figure at 0x1dd118d41d0>"
      ]
     },
     "metadata": {},
     "output_type": "display_data"
    }
   ],
   "source": [
    "import matplotlib.pyplot as plt\n",
    "%matplotlib inline\n",
    "\n",
    "print (clf_stats[['Classifier','Accuracy','Runtime']].sort(['Accuracy'], ascending=[False]))\n",
    "#Plot performance measures of classifiers\n",
    "\n",
    "x=range(1,(len(clf_stats.Classifier)+1))\n",
    "plt.figure(1,figsize=(14, 5))\n",
    "\n",
    "plt.subplot(131)\n",
    "plt.xlabel('Classifier')\n",
    "plt.ylabel('Classifier Accuracy')\n",
    "plt.plot(x, clf_stats['Accuracy'],color='g')\n",
    "plt.xticks(x,clf_stats.Classifier,rotation=90)\n",
    "\n",
    "plt.subplot(133)\n",
    "plt.xlabel('Classifier')\n",
    "plt.ylabel('Classifier Runtime')\n",
    "plt.plot(x, clf_stats['Runtime'],color='g')\n",
    "plt.xticks(x,clf_stats.Classifier,rotation=90)    "
   ]
  },
  {
   "cell_type": "markdown",
   "metadata": {},
   "source": [
    "### Classifying new tweets: Fit model, Clean Tweet, Predict Mood\n",
    "#### Clean incoming new tweet:"
   ]
  },
  {
   "cell_type": "code",
   "execution_count": 90,
   "metadata": {
    "collapsed": false
   },
   "outputs": [],
   "source": [
    "# Clean input tweet\n",
    "\n",
    "def fmt_input_tweet(txt):\n",
    "    \n",
    "    # Remove @tweets, numbers, hyperlinks that do not start with letters\n",
    "    txt = re.sub(\"(@[A-Za-z0-9]+)|([^0-9A-Za-z \\t])|(\\w+:\\/\\/\\S+)|([0-9])\",\" \",txt)\n",
    "    #print(txt)\n",
    "    \n",
    "    # tokenize into words\n",
    "    tokens = [word for word in nltk.word_tokenize(txt)]\n",
    "    #print(tokens)\n",
    "\n",
    "    # only keep tokens that start with a letter (using regular expressions)\n",
    "    clean_tokens = [token for token in tokens if re.search(r'^[a-zA-Z]+', token)]\n",
    "    #print('clean_tokens:\\n',clean_tokens)\n",
    "\n",
    "    # stem the tokens\n",
    "    stemmer = SnowballStemmer('english')\n",
    "    stemmed_tokens = [stemmer.stem(t) for t in clean_tokens]\n",
    "    #print('stemmed_tokens:\\n',stemmed_tokens)\n",
    "\n",
    "    #Lemmatizing\n",
    "    lemmatizer = nltk.WordNetLemmatizer()\n",
    "    lem_tokens = [lemmatizer.lemmatize(t) for t in stemmed_tokens]\n",
    "    #print('lemmatizer : \\n',lem_tokens)\n",
    "    \n",
    "    #Remove stopwords\n",
    "    stopwords = nltk.corpus.stopwords.words('english')\n",
    "\n",
    "    # stem the stopwords\n",
    "    stemmed_stops = [stemmer.stem(t) for t in stopwords]\n",
    "\n",
    "    # remove stopwords from stemmed/lemmatized tokens\n",
    "    lem_tokens_no_stop = [stemmer.stem(t) for t in lem_tokens if t not in stemmed_stops]\n",
    "\n",
    "    # remove words whose length is <3\n",
    "    clean_lem_tok = [e for e in lem_tokens_no_stop if len(e) >= 3]\n",
    "    #print('clean_lem_tok: ',clean_lem_tok)\n",
    "    \n",
    "    # Detokenize new tweet for vector processing\n",
    "    new_formatted_tweet=\" \".join(clean_lem_tok)\n",
    "    #print('new_formatted_tweet: ',new_formatted_tweet)\n",
    "    \n",
    "    return new_formatted_tweet\n",
    "    "
   ]
  },
  {
   "cell_type": "markdown",
   "metadata": {},
   "source": [
    "### Classify incoming new tweet:"
   ]
  },
  {
   "cell_type": "code",
   "execution_count": 91,
   "metadata": {
    "collapsed": false
   },
   "outputs": [
    {
     "name": "stdout",
     "output_type": "stream",
     "text": [
      "Model :  LogisticRegression\n"
     ]
    }
   ],
   "source": [
    "# Logistic Regression performs better. So it will automatically used as an appropriate classifier\n",
    "\n",
    "# Vectorize, fit, transform. Select model randomly\n",
    "vect = CountVectorizer(stop_words='english', analyzer=\"word\", min_df = 2, max_df = 0.8)\n",
    "X_dtm = vect.fit_transform(X)\n",
    "feat_dtm = vect.get_feature_names()\n",
    "\n",
    "# Select the best performing classifier\n",
    "Call_clf = str(clf_stats[['Callable','Accuracy']].sort(['Accuracy'], ascending=[False]).head(1).iloc[:,(0)])\n",
    "temp = Call_clf.__repr__()\n",
    "Call_clf = temp[temp.index('c'):(temp.index(')'))+1]\n",
    "print('Model :',temp[(temp.index('=') + 1) : temp.index('(')])\n",
    "exec(Call_clf)\n",
    "clf.fit(X_dtm.toarray(), y) \n",
    "\n",
    "def classify_new_tweet(new_twt):  \n",
    "\n",
    "    fmt_twt = fmt_input_tweet(new_twt)\n",
    "    fmt_twt_dtm = vect.transform([fmt_twt])[0]\n",
    "    #print('Formatted Tweet :',fmt_twt)\n",
    "    pred = clf.predict(fmt_twt_dtm.toarray())\n",
    "\n",
    "    def mood(x):\n",
    "        return {\n",
    "            0: 'negative',\n",
    "            1: 'positive',\n",
    "            2: 'neutral'\n",
    "        }[x]\n",
    "\n",
    "    print('Mood of the incoming tweet is:',mood(pred[0]))"
   ]
  },
  {
   "cell_type": "code",
   "execution_count": 92,
   "metadata": {
    "collapsed": false
   },
   "outputs": [
    {
     "name": "stdout",
     "output_type": "stream",
     "text": [
      "Mood of the incoming tweet is: negative\n"
     ]
    }
   ],
   "source": [
    "twt='@united I am sick!! https://www.abc.com'\n",
    "classify_new_tweet(twt)"
   ]
  },
  {
   "cell_type": "code",
   "execution_count": 93,
   "metadata": {
    "collapsed": false
   },
   "outputs": [
    {
     "ename": "ValueError",
     "evalue": "Found arrays with inconsistent numbers of samples: [ 2363 14640]",
     "output_type": "error",
     "traceback": [
      "\u001b[1;31m---------------------------------------------------------------------------\u001b[0m",
      "\u001b[1;31mValueError\u001b[0m                                Traceback (most recent call last)",
      "\u001b[1;32m<ipython-input-93-32578c9f90a7>\u001b[0m in \u001b[0;36m<module>\u001b[1;34m()\u001b[0m\n\u001b[0;32m      3\u001b[0m \u001b[0mX_random_dtm\u001b[0m \u001b[1;33m=\u001b[0m \u001b[0mvect\u001b[0m\u001b[1;33m.\u001b[0m\u001b[0mtransform\u001b[0m\u001b[1;33m(\u001b[0m\u001b[0mX_random\u001b[0m\u001b[1;33m)\u001b[0m\u001b[1;33m\u001b[0m\u001b[0m\n\u001b[0;32m      4\u001b[0m \u001b[0my_random_pred\u001b[0m \u001b[1;33m=\u001b[0m \u001b[0mclf\u001b[0m\u001b[1;33m.\u001b[0m\u001b[0mpredict\u001b[0m\u001b[1;33m(\u001b[0m\u001b[0mX_random_dtm\u001b[0m\u001b[1;33m)\u001b[0m\u001b[1;33m\u001b[0m\u001b[0m\n\u001b[1;32m----> 5\u001b[1;33m \u001b[0maccuracy\u001b[0m \u001b[1;33m=\u001b[0m \u001b[0mmetrics\u001b[0m\u001b[1;33m.\u001b[0m\u001b[0maccuracy_score\u001b[0m\u001b[1;33m(\u001b[0m\u001b[0my\u001b[0m\u001b[1;33m,\u001b[0m \u001b[0my_random_pred\u001b[0m\u001b[1;33m)\u001b[0m\u001b[1;33m\u001b[0m\u001b[0m\n\u001b[0m\u001b[0;32m      6\u001b[0m \u001b[0mprint\u001b[0m\u001b[1;33m(\u001b[0m\u001b[1;34m'Accuracy of random prediction : '\u001b[0m\u001b[1;33m,\u001b[0m\u001b[0maccuracy\u001b[0m\u001b[1;33m)\u001b[0m\u001b[1;33m\u001b[0m\u001b[0m\n",
      "\u001b[1;32mC:\\Anaconda3\\envs\\py3k\\lib\\site-packages\\sklearn\\metrics\\classification.py\u001b[0m in \u001b[0;36maccuracy_score\u001b[1;34m(y_true, y_pred, normalize, sample_weight)\u001b[0m\n\u001b[0;32m    170\u001b[0m \u001b[1;33m\u001b[0m\u001b[0m\n\u001b[0;32m    171\u001b[0m     \u001b[1;31m# Compute accuracy for each possible representation\u001b[0m\u001b[1;33m\u001b[0m\u001b[1;33m\u001b[0m\u001b[0m\n\u001b[1;32m--> 172\u001b[1;33m     \u001b[0my_type\u001b[0m\u001b[1;33m,\u001b[0m \u001b[0my_true\u001b[0m\u001b[1;33m,\u001b[0m \u001b[0my_pred\u001b[0m \u001b[1;33m=\u001b[0m \u001b[0m_check_targets\u001b[0m\u001b[1;33m(\u001b[0m\u001b[0my_true\u001b[0m\u001b[1;33m,\u001b[0m \u001b[0my_pred\u001b[0m\u001b[1;33m)\u001b[0m\u001b[1;33m\u001b[0m\u001b[0m\n\u001b[0m\u001b[0;32m    173\u001b[0m     \u001b[1;32mif\u001b[0m \u001b[0my_type\u001b[0m\u001b[1;33m.\u001b[0m\u001b[0mstartswith\u001b[0m\u001b[1;33m(\u001b[0m\u001b[1;34m'multilabel'\u001b[0m\u001b[1;33m)\u001b[0m\u001b[1;33m:\u001b[0m\u001b[1;33m\u001b[0m\u001b[0m\n\u001b[0;32m    174\u001b[0m         \u001b[0mdiffering_labels\u001b[0m \u001b[1;33m=\u001b[0m \u001b[0mcount_nonzero\u001b[0m\u001b[1;33m(\u001b[0m\u001b[0my_true\u001b[0m \u001b[1;33m-\u001b[0m \u001b[0my_pred\u001b[0m\u001b[1;33m,\u001b[0m \u001b[0maxis\u001b[0m\u001b[1;33m=\u001b[0m\u001b[1;36m1\u001b[0m\u001b[1;33m)\u001b[0m\u001b[1;33m\u001b[0m\u001b[0m\n",
      "\u001b[1;32mC:\\Anaconda3\\envs\\py3k\\lib\\site-packages\\sklearn\\metrics\\classification.py\u001b[0m in \u001b[0;36m_check_targets\u001b[1;34m(y_true, y_pred)\u001b[0m\n\u001b[0;32m     70\u001b[0m     \u001b[0my_pred\u001b[0m \u001b[1;33m:\u001b[0m \u001b[0marray\u001b[0m \u001b[1;32mor\u001b[0m \u001b[0mindicator\u001b[0m \u001b[0mmatrix\u001b[0m\u001b[1;33m\u001b[0m\u001b[0m\n\u001b[0;32m     71\u001b[0m     \"\"\"\n\u001b[1;32m---> 72\u001b[1;33m     \u001b[0mcheck_consistent_length\u001b[0m\u001b[1;33m(\u001b[0m\u001b[0my_true\u001b[0m\u001b[1;33m,\u001b[0m \u001b[0my_pred\u001b[0m\u001b[1;33m)\u001b[0m\u001b[1;33m\u001b[0m\u001b[0m\n\u001b[0m\u001b[0;32m     73\u001b[0m     \u001b[0mtype_true\u001b[0m \u001b[1;33m=\u001b[0m \u001b[0mtype_of_target\u001b[0m\u001b[1;33m(\u001b[0m\u001b[0my_true\u001b[0m\u001b[1;33m)\u001b[0m\u001b[1;33m\u001b[0m\u001b[0m\n\u001b[0;32m     74\u001b[0m     \u001b[0mtype_pred\u001b[0m \u001b[1;33m=\u001b[0m \u001b[0mtype_of_target\u001b[0m\u001b[1;33m(\u001b[0m\u001b[0my_pred\u001b[0m\u001b[1;33m)\u001b[0m\u001b[1;33m\u001b[0m\u001b[0m\n",
      "\u001b[1;32mC:\\Anaconda3\\envs\\py3k\\lib\\site-packages\\sklearn\\utils\\validation.py\u001b[0m in \u001b[0;36mcheck_consistent_length\u001b[1;34m(*arrays)\u001b[0m\n\u001b[0;32m    174\u001b[0m     \u001b[1;32mif\u001b[0m \u001b[0mlen\u001b[0m\u001b[1;33m(\u001b[0m\u001b[0muniques\u001b[0m\u001b[1;33m)\u001b[0m \u001b[1;33m>\u001b[0m \u001b[1;36m1\u001b[0m\u001b[1;33m:\u001b[0m\u001b[1;33m\u001b[0m\u001b[0m\n\u001b[0;32m    175\u001b[0m         raise ValueError(\"Found arrays with inconsistent numbers of samples: \"\n\u001b[1;32m--> 176\u001b[1;33m                          \"%s\" % str(uniques))\n\u001b[0m\u001b[0;32m    177\u001b[0m \u001b[1;33m\u001b[0m\u001b[0m\n\u001b[0;32m    178\u001b[0m \u001b[1;33m\u001b[0m\u001b[0m\n",
      "\u001b[1;31mValueError\u001b[0m: Found arrays with inconsistent numbers of samples: [ 2363 14640]"
     ]
    }
   ],
   "source": [
    "# Predict performance of random prediction. Testing for positive classes.\n",
    "X_random = dft[dft['target'] == 1].data\n",
    "X_random_dtm = vect.transform(X_random)\n",
    "y_random_pred = clf.predict(X_random_dtm)\n",
    "accuracy = metrics.accuracy_score(y, y_random_pred)\n",
    "print('Accuracy of random prediction : ',accuracy)"
   ]
  },
  {
   "cell_type": "markdown",
   "metadata": {},
   "source": [
    "### Plot Classification Boundary for Logistic Regression:"
   ]
  },
  {
   "cell_type": "code",
   "execution_count": null,
   "metadata": {
    "collapsed": true
   },
   "outputs": [],
   "source": [
    "# Scatter plot classification boundary\n",
    "\n",
    "h = .02  # step size in the mesh\n",
    "\n",
    "logreg = LogisticRegression()\n",
    "\n",
    "# we create an instance of Neighbours Classifier and fit the data.\n",
    "logreg.fit(X_dtm, y)\n",
    "\n",
    "# Plot the decision boundary. For that, we will assign a color to each\n",
    "# point in the mesh [x_min, x_max]x[y_min, y_max].\n",
    "x_min, x_max = X_dtm[:, 0].min() - .5, X_dtm[:, 0].max() + .5\n",
    "y_min, y_max = X_dtm[:, 1].min() - .5, X_dtm[:, 1].max() + .5\n",
    "xx, yy = np.meshgrid(np.arange(x_min, x_max, h), np.arange(y_min, y_max, h))\n",
    "Z = logreg.predict(np.c_[xx.ravel(), yy.ravel()])\n",
    "\n",
    "# Put the result into a color plot\n",
    "Z = Z.reshape(xx.shape)\n",
    "plt.figure(1, figsize=(4, 3))\n",
    "plt.pcolormesh(xx, yy, Z, cmap=plt.cm.Paired)\n",
    "\n",
    "# Plot also the training points\n",
    "plt.scatter(X[:, 0], X[:, 1], c=Y, edgecolors='k', cmap=plt.cm.Paired)\n",
    "plt.xlabel('Sepal length')\n",
    "plt.ylabel('Sepal width')\n",
    "\n",
    "plt.xlim(xx.min(), xx.max())\n",
    "plt.ylim(yy.min(), yy.max())\n",
    "plt.xticks(())\n",
    "plt.yticks(())\n",
    "\n",
    "plt.show()"
   ]
  }
 ],
 "metadata": {
  "kernelspec": {
   "display_name": "Python 3",
   "language": "python",
   "name": "python3"
  },
  "language_info": {
   "codemirror_mode": {
    "name": "ipython",
    "version": 3
   },
   "file_extension": ".py",
   "mimetype": "text/x-python",
   "name": "python",
   "nbconvert_exporter": "python",
   "pygments_lexer": "ipython3",
   "version": "3.5.2"
  }
 },
 "nbformat": 4,
 "nbformat_minor": 1
}
